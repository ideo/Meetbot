{
 "cells": [
  {
   "cell_type": "markdown",
   "metadata": {},
   "source": [
    "This notebook gets all the events from the `meetbot@ideo.com` calendar so that we can quantify impact and connections !!"
   ]
  },
  {
   "cell_type": "code",
   "execution_count": 1,
   "metadata": {},
   "outputs": [],
   "source": [
    "import datetime\n",
    "import dateutil.parser\n",
    "import httplib2\n",
    "import os\n",
    "import pandas as pd\n",
    "import traces\n",
    "\n",
    "from apiclient import discovery\n",
    "from oauth2client import client\n",
    "from oauth2client import tools\n",
    "from oauth2client.file import Storage\n",
    "\n",
    "import settings"
   ]
  },
  {
   "cell_type": "code",
   "execution_count": 3,
   "metadata": {},
   "outputs": [],
   "source": [
    "def get_credentials(self=None):\n",
    "    home_dir = os.path.expanduser('~')\n",
    "    credential_dir = os.path.join(home_dir, '.credentials')\n",
    "    if not os.path.exists(credential_dir):\n",
    "        os.makedirs(credential_dir)\n",
    "    credential_path = os.path.join(credential_dir,\n",
    "                                       'calendar-python-quickstart.json')\n",
    "\n",
    "    store = Storage(credential_path)\n",
    "    credentials = store.get()\n",
    "    if not credentials or credentials.invalid:\n",
    "        flow = client.flow_from_clientsecrets(CLIENT_SECRET_FILE, SCOPES)\n",
    "        flow.user_agent = APPLICATION_NAME\n",
    "        if flags:\n",
    "            credentials = tools.run_flow(flow, store, flags)\n",
    "        else:  # Needed only for compatibility with Python 2.6                                                \n",
    "            credentials = tools.run(flow, store)\n",
    "        print('Storing credentials to ' + credential_path)\n",
    "    return credentials"
   ]
  },
  {
   "cell_type": "code",
   "execution_count": 6,
   "metadata": {},
   "outputs": [],
   "source": [
    "credentials = get_credentials()\n",
    "http = credentials.authorize(httplib2.Http())\n",
    "service = discovery.build('calendar', 'v3', http=http)\n",
    "\n",
    "now = datetime.datetime.utcnow().isoformat() + 'Z'  # 'Z' indicates UTC time                              \n",
    "\n",
    "page_token = None\n",
    "while True:\n",
    "    events = service.events().list(calendarId='primary', \n",
    "                                   pageToken=page_token,\n",
    "                                   timeMax=now # only get events that have happened already\n",
    "                                  ).execute()\n",
    "    page_token = events.get('nextPageToken')\n",
    "    if not page_token:\n",
    "        break"
   ]
  },
  {
   "cell_type": "code",
   "execution_count": 8,
   "metadata": {},
   "outputs": [
    {
     "name": "stdout",
     "output_type": "stream",
     "text": [
      "95 85\n"
     ]
    }
   ],
   "source": [
    "# get total number of attendees (who did not DECLINE the invitation)                                      \n",
    "all_attendees = []\n",
    "event_titles = []\n",
    "events_with_emails = []\n",
    "\n",
    "for event in events['items']:\n",
    "    if len(event['attendees']) > 1:\n",
    "        event_titles.append(event['summary'])\n",
    "        for attendee in event['attendees']:\n",
    "            if attendee['responseStatus'] is not 'declined':\n",
    "                all_attendees.append(attendee['email'])\n",
    "                events_with_emails.append((event['id'], attendee['email']))\n",
    "print(len(set(all_attendees)), len(event_titles))"
   ]
  },
  {
   "cell_type": "code",
   "execution_count": 9,
   "metadata": {},
   "outputs": [
    {
     "name": "stdout",
     "output_type": "stream",
     "text": [
      "Counter({\"Meet n' Three!\": 72, 'DR Dates!': 12, \"Meet n' Four!\": 1})\n"
     ]
    }
   ],
   "source": [
    "# Get counts of different types of events \n",
    "from collections import Counter\n",
    "print(Counter(event_titles))"
   ]
  },
  {
   "cell_type": "code",
   "execution_count": 10,
   "metadata": {},
   "outputs": [],
   "source": [
    "# \n",
    "d_index = pd.MultiIndex.from_tuples(events_with_emails, names=('event_id','email'))\n",
    "events_df = pd.DataFrame(index=d_index)"
   ]
  },
  {
   "cell_type": "code",
   "execution_count": 11,
   "metadata": {},
   "outputs": [
    {
     "data": {
      "text/html": [
       "<div>\n",
       "<style scoped>\n",
       "    .dataframe tbody tr th:only-of-type {\n",
       "        vertical-align: middle;\n",
       "    }\n",
       "\n",
       "    .dataframe tbody tr th {\n",
       "        vertical-align: top;\n",
       "    }\n",
       "\n",
       "    .dataframe thead th {\n",
       "        text-align: right;\n",
       "    }\n",
       "</style>\n",
       "<table border=\"1\" class=\"dataframe\">\n",
       "  <thead>\n",
       "    <tr style=\"text-align: right;\">\n",
       "      <th></th>\n",
       "      <th></th>\n",
       "    </tr>\n",
       "    <tr>\n",
       "      <th>event_id</th>\n",
       "      <th>email</th>\n",
       "    </tr>\n",
       "  </thead>\n",
       "  <tbody>\n",
       "    <tr>\n",
       "      <th rowspan=\"3\" valign=\"top\">2bc6dekamdftiahr2m3tr8balc</th>\n",
       "      <th>jmassa@ideo.com</th>\n",
       "    </tr>\n",
       "    <tr>\n",
       "      <th>lpatterson@ideo.com</th>\n",
       "    </tr>\n",
       "    <tr>\n",
       "      <th>mgilmansmith@ideo.com</th>\n",
       "    </tr>\n",
       "    <tr>\n",
       "      <th rowspan=\"2\" valign=\"top\">v3vku45og0s8o874o30pjkv800</th>\n",
       "      <th>ctorres@ideo.com</th>\n",
       "    </tr>\n",
       "    <tr>\n",
       "      <th>msantana@ideo.com</th>\n",
       "    </tr>\n",
       "  </tbody>\n",
       "</table>\n",
       "</div>"
      ],
      "text/plain": [
       "Empty DataFrame\n",
       "Columns: []\n",
       "Index: [(2bc6dekamdftiahr2m3tr8balc, jmassa@ideo.com), (2bc6dekamdftiahr2m3tr8balc, lpatterson@ideo.com), (2bc6dekamdftiahr2m3tr8balc, mgilmansmith@ideo.com), (v3vku45og0s8o874o30pjkv800, ctorres@ideo.com), (v3vku45og0s8o874o30pjkv800, msantana@ideo.com)]"
      ]
     },
     "execution_count": 11,
     "metadata": {},
     "output_type": "execute_result"
    }
   ],
   "source": [
    "events_df.head()"
   ]
  },
  {
   "cell_type": "code",
   "execution_count": 41,
   "metadata": {},
   "outputs": [],
   "source": [
    "file_path = settings.DATA_DIRECTORY + 'directory_data.csv'\n",
    "directory_data = pd.read_csv(file_path,  \n",
    "                             usecols=['discipline','email'],\n",
    "                             names=['discipline','email'],\n",
    "                            skiprows=1) \n",
    "directory_data.set_index('email', inplace=True)"
   ]
  },
  {
   "cell_type": "code",
   "execution_count": 43,
   "metadata": {},
   "outputs": [
    {
     "data": {
      "text/html": [
       "<div>\n",
       "<style scoped>\n",
       "    .dataframe tbody tr th:only-of-type {\n",
       "        vertical-align: middle;\n",
       "    }\n",
       "\n",
       "    .dataframe tbody tr th {\n",
       "        vertical-align: top;\n",
       "    }\n",
       "\n",
       "    .dataframe thead th {\n",
       "        text-align: right;\n",
       "    }\n",
       "</style>\n",
       "<table border=\"1\" class=\"dataframe\">\n",
       "  <thead>\n",
       "    <tr style=\"text-align: right;\">\n",
       "      <th></th>\n",
       "      <th></th>\n",
       "      <th>discipline</th>\n",
       "    </tr>\n",
       "    <tr>\n",
       "      <th>event_id</th>\n",
       "      <th>email</th>\n",
       "      <th></th>\n",
       "    </tr>\n",
       "  </thead>\n",
       "  <tbody>\n",
       "    <tr>\n",
       "      <th rowspan=\"3\" valign=\"top\">2bc6dekamdftiahr2m3tr8balc</th>\n",
       "      <th>jmassa@ideo.com</th>\n",
       "      <td>Business Design</td>\n",
       "    </tr>\n",
       "    <tr>\n",
       "      <th>lpatterson@ideo.com</th>\n",
       "      <td>Talent</td>\n",
       "    </tr>\n",
       "    <tr>\n",
       "      <th>mgilmansmith@ideo.com</th>\n",
       "      <td>Technology</td>\n",
       "    </tr>\n",
       "    <tr>\n",
       "      <th rowspan=\"2\" valign=\"top\">v3vku45og0s8o874o30pjkv800</th>\n",
       "      <th>ctorres@ideo.com</th>\n",
       "      <td>Industrial Design</td>\n",
       "    </tr>\n",
       "    <tr>\n",
       "      <th>msantana@ideo.com</th>\n",
       "      <td>Accounting</td>\n",
       "    </tr>\n",
       "  </tbody>\n",
       "</table>\n",
       "</div>"
      ],
      "text/plain": [
       "                                                         discipline\n",
       "event_id                   email                                   \n",
       "2bc6dekamdftiahr2m3tr8balc jmassa@ideo.com          Business Design\n",
       "                           lpatterson@ideo.com               Talent\n",
       "                           mgilmansmith@ideo.com         Technology\n",
       "v3vku45og0s8o874o30pjkv800 ctorres@ideo.com       Industrial Design\n",
       "                           msantana@ideo.com             Accounting"
      ]
     },
     "execution_count": 43,
     "metadata": {},
     "output_type": "execute_result"
    }
   ],
   "source": [
    "events_df.join(directory_data).head()"
   ]
  },
  {
   "cell_type": "code",
   "execution_count": null,
   "metadata": {},
   "outputs": [],
   "source": []
  }
 ],
 "metadata": {
  "kernelspec": {
   "display_name": "Python 3",
   "language": "python",
   "name": "python3"
  },
  "language_info": {
   "codemirror_mode": {
    "name": "ipython",
    "version": 3
   },
   "file_extension": ".py",
   "mimetype": "text/x-python",
   "name": "python",
   "nbconvert_exporter": "python",
   "pygments_lexer": "ipython3",
   "version": "3.6.4"
  }
 },
 "nbformat": 4,
 "nbformat_minor": 2
}
