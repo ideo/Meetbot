{
 "cells": [
  {
   "cell_type": "code",
   "execution_count": null,
   "metadata": {},
   "outputs": [],
   "source": [
    "import numpy as np\n",
    "import pandas as pd"
   ]
  },
  {
   "cell_type": "code",
   "execution_count": null,
   "metadata": {},
   "outputs": [],
   "source": [
    "D4AI_list = pd.read_excel('Global_call_invite.xls')"
   ]
  },
  {
   "cell_type": "code",
   "execution_count": null,
   "metadata": {},
   "outputs": [],
   "source": [
    "D4AI_list.head()"
   ]
  },
  {
   "cell_type": "code",
   "execution_count": null,
   "metadata": {},
   "outputs": [],
   "source": [
    "D4AI_list['number_of_meetings']=0\n",
    "D4AI_list['max_meetings']=100\n",
    "D4AI_list.head()"
   ]
  },
  {
   "cell_type": "code",
   "execution_count": null,
   "metadata": {},
   "outputs": [],
   "source": [
    "leads = D4AI_list[D4AI_list['Call Lead']=='x']"
   ]
  },
  {
   "cell_type": "code",
   "execution_count": null,
   "metadata": {},
   "outputs": [],
   "source": [
    "leads['Studio'].value_counts()"
   ]
  },
  {
   "cell_type": "code",
   "execution_count": null,
   "metadata": {},
   "outputs": [],
   "source": [
    "studios = set(D4AI_list['Studio'].values)\n",
    "studios"
   ]
  },
  {
   "cell_type": "code",
   "execution_count": null,
   "metadata": {},
   "outputs": [],
   "source": [
    "hours_diff = pd.read_csv('time_zones.csv')\n",
    "hours_diff"
   ]
  },
  {
   "cell_type": "code",
   "execution_count": null,
   "metadata": {},
   "outputs": [],
   "source": [
    "(hours_diff['hours_diff'] + 9)%24"
   ]
  },
  {
   "cell_type": "code",
   "execution_count": null,
   "metadata": {},
   "outputs": [],
   "source": [
    "possible_groups = []\n",
    "\n",
    "full_df = []\n",
    "hour = []\n",
    "for i in range(24):\n",
    "    times = (hours_diff['hours_diff'] + i)%24\n",
    "    \n",
    "    #get the ones that are within working hours\n",
    "    working_hours_bool = (times>8) & (times<18)\n",
    "    working_studios = hours_diff[working_hours_bool]\n",
    "    working_studios['time'] = times[working_hours_bool]\n",
    "    hour.append(i)\n",
    "#     print(working_studios)\n",
    "#     print(' ')\n",
    "    possible_groups.append(frozenset(working_studios['Studio']))\n",
    "    full_df.append(working_studios)\n",
    "print(possible_groups)"
   ]
  },
  {
   "cell_type": "code",
   "execution_count": null,
   "metadata": {},
   "outputs": [],
   "source": [
    "i"
   ]
  },
  {
   "cell_type": "code",
   "execution_count": null,
   "metadata": {},
   "outputs": [],
   "source": [
    "studio_pairings = set(possible_groups)"
   ]
  },
  {
   "cell_type": "code",
   "execution_count": null,
   "metadata": {},
   "outputs": [],
   "source": [
    "studio_pairings"
   ]
  },
  {
   "cell_type": "code",
   "execution_count": null,
   "metadata": {},
   "outputs": [],
   "source": [
    "actual_groups = []\n",
    "for group in studio_pairings:\n",
    "    if len(group)>2:\n",
    "        actual_groups.append(group)"
   ]
  },
  {
   "cell_type": "code",
   "execution_count": null,
   "metadata": {},
   "outputs": [],
   "source": [
    "actual_groups"
   ]
  },
  {
   "cell_type": "code",
   "execution_count": null,
   "metadata": {},
   "outputs": [],
   "source": [
    "mapping_dict = {}\n",
    "# for group in actual_groups:\n",
    "#     for entry in group:\n",
    "\n",
    "for studio in studios:\n",
    "    if studio not in mapping_dict:\n",
    "        mapping_dict[studio] = []\n",
    "    for group in actual_groups:\n",
    "        if studio in group:\n",
    "            group = np.array([stud for stud in group])\n",
    "            group = group[group!=studio]\n",
    "            current_list = mapping_dict[studio]\n",
    "            for entry in group:\n",
    "                current_list.append(entry)\n",
    "            mapping_dict[studio] = current_list"
   ]
  },
  {
   "cell_type": "code",
   "execution_count": null,
   "metadata": {},
   "outputs": [],
   "source": [
    "poss = {}\n",
    "for studio in mapping_dict:\n",
    "    matches = mapping_dict[studio]\n",
    "    possibilities = set(matches)\n",
    "    poss[studio] = possibilities"
   ]
  },
  {
   "cell_type": "code",
   "execution_count": null,
   "metadata": {},
   "outputs": [],
   "source": [
    "poss"
   ]
  },
  {
   "cell_type": "code",
   "execution_count": null,
   "metadata": {},
   "outputs": [],
   "source": [
    "actual_groups"
   ]
  },
  {
   "cell_type": "code",
   "execution_count": null,
   "metadata": {},
   "outputs": [],
   "source": [
    "from itertools import combinations"
   ]
  },
  {
   "cell_type": "code",
   "execution_count": null,
   "metadata": {},
   "outputs": [],
   "source": [
    "comb = set(combinations(studios, 3))\n",
    "comb "
   ]
  },
  {
   "cell_type": "code",
   "execution_count": null,
   "metadata": {},
   "outputs": [],
   "source": [
    "possible_groups = []\n",
    "\n",
    "hour = []\n",
    "comb_list = list(comb)\n",
    "stored_dict = {}\n",
    "for i in range(24):\n",
    "    times = (hours_diff['hours_diff'] + i)%24\n",
    "    \n",
    "    #get the ones that are within working hours\n",
    "    working_hours_bool = (times>8) & (times<18)\n",
    "    working_studios = hours_diff[working_hours_bool]\n",
    "    working_studios['time'] = times[working_hours_bool]\n",
    "    hour.append(i)\n",
    "    working_studios_set = set(working_studios.Studio.values)\n",
    "    comb_bool = [sub for sub in comb if set(sub).issubset(working_studios_set)]\n",
    "    if len(comb_bool)>0:\n",
    "        for c in comb_bool:\n",
    "            string = c[0]+'_'+ c[1]+'_'+c[2]\n",
    "            if string in stored_dict:\n",
    "                time_list = stored_dict[string]\n",
    "                time_list.append(i)\n",
    "                stored_dict[string] = time_list\n",
    "            else:\n",
    "                stored_dict[string] = [i]\n",
    "                \n",
    "stored_dict"
   ]
  },
  {
   "cell_type": "code",
   "execution_count": null,
   "metadata": {},
   "outputs": [],
   "source": [
    "good_groups = []\n",
    "for string in stored_dict:\n",
    "    studios = string.split('_')\n",
    "    times = stored_dict[string]\n",
    "    #print(studios)\n",
    "    if len(times)>0:\n",
    "        good_groups.append(frozenset(studios))\n",
    "good_groups = set(good_groups)"
   ]
  },
  {
   "cell_type": "code",
   "execution_count": null,
   "metadata": {},
   "outputs": [],
   "source": [
    "actual_groups"
   ]
  },
  {
   "cell_type": "code",
   "execution_count": null,
   "metadata": {},
   "outputs": [],
   "source": [
    "# check if any of those are in the actual groups\n",
    "good_groups = []\n",
    "for entry in comb:\n",
    "    entry = frozenset(entry)\n",
    "    for group in actual_groups:\n",
    "        if entry.issubset(group):\n",
    "            good_groups.append(entry)\n",
    "good_groups = set(good_groups)"
   ]
  },
  {
   "cell_type": "code",
   "execution_count": null,
   "metadata": {},
   "outputs": [],
   "source": [
    "good_groups"
   ]
  },
  {
   "cell_type": "code",
   "execution_count": null,
   "metadata": {},
   "outputs": [],
   "source": [
    "def start_end_trio(trio:\n",
    "    times = (hours_diff['hours_diff'] + i)%24"
   ]
  },
  {
   "cell_type": "code",
   "execution_count": null,
   "metadata": {},
   "outputs": [],
   "source": [
    "leads = D4AI_list[D4AI_list['Call Lead']=='x']\n",
    "weight = leads['max_meetings'] - leads['number_of_meetings']\n",
    "selection = leads.sample(1, weights = weight)\n",
    "\n",
    "selection_studio = selection.Studio.values[0]\n",
    "selection_email = [selection.Email.values[0]]\n"
   ]
  },
  {
   "cell_type": "code",
   "execution_count": null,
   "metadata": {},
   "outputs": [],
   "source": [
    "leads = D4AI_list[D4AI_list['Call Lead']=='x']\n",
    "weight = leads['max_meetings'] - leads['number_of_meetings']\n",
    "selection = leads.sample(1, weights = weight)\n",
    "\n",
    "selection_studio = selection.Studio.values[0]\n",
    "selection_email = [selection.Email.values[0]]\n",
    "\n",
    "possibilities = []\n",
    "for group in good_groups:\n",
    "    if selection_studio in group:\n",
    "        possibilities.append(group)"
   ]
  },
  {
   "cell_type": "code",
   "execution_count": null,
   "metadata": {},
   "outputs": [],
   "source": [
    "import random\n",
    "selected = []\n",
    "while (sum(D4AI_list.number_of_meetings < 1) > 0):\n",
    "    leads = D4AI_list[D4AI_list['Call Lead']=='x']\n",
    "    weight = leads['max_meetings'] - leads['number_of_meetings']\n",
    "    selection = leads.sample(1, weights = weight**5)\n",
    "\n",
    "    selection_studio = selection.Studio.values[0]\n",
    "    selection_email = [selection.index[0]]\n",
    "\n",
    "   \n",
    "    studio_group_index = random.randint(0, len(possibilities)-1)\n",
    "    studio_group = possibilities[studio_group_index]\n",
    "    other_studios = set(studio_group) - set([selection_studio])\n",
    "    other_call_members = []\n",
    "    for studio in other_studios:\n",
    "        people = D4AI_list[((D4AI_list.Studio == studio) & (D4AI_list['Call Lead']!='x'))]\n",
    "        weight = people['max_meetings'] - people['number_of_meetings']\n",
    "        if sum(weight) == 0:\n",
    "            people = D4AI_list[((D4AI_list.Studio == studio))]\n",
    "            weight = people['max_meetings'] - people['number_of_meetings']\n",
    "            # pick different studio grouping\n",
    "            bad_studio_group_index = studio_group_index\n",
    "            while studio_group_index == bad_studio_group_index:\n",
    "                studio_group_index = random.randint(0, len(possibilities)-1)\n",
    "                studio_group = possibilities[studio_group_index]\n",
    "                other_studios = set(studio_group) - set([selection_studio])\n",
    "                print('make new selection', other_studios)\n",
    "                for studio in other_studios:\n",
    "                    people = D4AI_list[((D4AI_list.Studio == studio) & (D4AI_list['Call Lead']!='x'))]\n",
    "                    weight = people['max_meetings'] - people['number_of_meetings']\n",
    "                \n",
    "            \n",
    "        selection = people.sample(1, weights = weight**7)\n",
    "        selection_email.append(selection.index[0])\n",
    "    print(selection_email)\n",
    "    D4AI_list.loc[\n",
    "                    selection_email, 'number_of_meetings'] += 1\n",
    "    selected.append(selection_email)"
   ]
  },
  {
   "cell_type": "code",
   "execution_count": null,
   "metadata": {},
   "outputs": [],
   "source": [
    "D4AI_list['number_of_meetings'].sum()"
   ]
  },
  {
   "cell_type": "code",
   "execution_count": null,
   "metadata": {},
   "outputs": [],
   "source": [
    "# go through leads and assign groups for them, see how that turns out\n",
    "D4AI_list['number_of_meetings']=0\n",
    "D4AI_list['max_meetings']=5\n",
    "D4AI_list.head()"
   ]
  },
  {
   "cell_type": "code",
   "execution_count": null,
   "metadata": {},
   "outputs": [],
   "source": [
    "import random\n",
    "selected = []\n",
    "for index, selection in leads.iterrows():\n",
    "    percentage_zero = D4AI_list[D4AI_list['number_of_meetings']==0].Studio.value_counts()/D4AI_list.Studio.value_counts()\n",
    "    \n",
    "    selection_studio = selection.Studio\n",
    "    selection_email = [index]\n",
    "\n",
    "    possibilities = []\n",
    "    for group in good_groups:\n",
    "        if selection_studio in group:\n",
    "            possibilities.append(group)\n",
    "            \n",
    "    studio_group_index = random.randint(0, len(possibilities)-1) # weight this somehow\n",
    "    studio_group = possibilities[studio_group_index]\n",
    "    other_studios = set(studio_group) - set([selection_studio])\n",
    "    other_call_members = []\n",
    "    for studio in other_studios:\n",
    "        people = D4AI_list[((D4AI_list.Studio == studio) & (D4AI_list['Call Lead']!='x'))]\n",
    "        weight = people['max_meetings'] - people['number_of_meetings']\n",
    "        if sum(weight) == 0:\n",
    "            people = D4AI_list[((D4AI_list.Studio == studio))]\n",
    "            weight = people['max_meetings'] - people['number_of_meetings']\n",
    "            # pick different studio grouping\n",
    "            bad_studio_group_index = studio_group_index\n",
    "            while studio_group_index == bad_studio_group_index:\n",
    "                studio_group_index = random.randint(0, len(possibilities)-1)\n",
    "                studio_group = possibilities[studio_group_index]\n",
    "                other_studios = set(studio_group) - set([selection_studio])\n",
    "                print('make new selection', other_studios)\n",
    "                for studio in other_studios:\n",
    "                    people = D4AI_list[((D4AI_list.Studio == studio) & (D4AI_list['Call Lead']!='x'))]\n",
    "                    weight = people['max_meetings'] - people['number_of_meetings']\n",
    "                \n",
    "            \n",
    "        selection = people.sample(1, weights = weight**7)\n",
    "        selection_email.append(selection.index[0])\n",
    "    print(selection_email)\n",
    "    D4AI_list.loc[\n",
    "                    selection_email, 'number_of_meetings'] += 1\n",
    "    selected.append(selection_email)"
   ]
  },
  {
   "cell_type": "code",
   "execution_count": null,
   "metadata": {},
   "outputs": [],
   "source": [
    "def find_weight_for_studio_trio(trio, D4AI_list):\n",
    "    \n",
    "    total_weight = 0\n",
    "    maxed = 1\n",
    "    \n",
    "    percentage_zero = D4AI_list[D4AI_list['number_of_meetings']==0].Studio.value_counts()/D4AI_list.Studio.value_counts()\n",
    "    percentage_zero.fillna(0, inplace=True)\n",
    "    \n",
    "    percentage_max = D4AI_list[D4AI_list['number_of_meetings']==D4AI_list['max_meetings']].Studio.value_counts()/D4AI_list.Studio.value_counts()\n",
    "    percentage_max.fillna(0, inplace=True)\n",
    "    \n",
    "\n",
    "    for studio in trio:\n",
    "        p_zero = percentage_zero.loc[studio] #percentage people with zero meetings\n",
    "        if percentage_max[studio]>=1:\n",
    "            maxed = 0\n",
    "        total_weight += p_zero\n",
    "    return total_weight*maxed"
   ]
  },
  {
   "cell_type": "code",
   "execution_count": null,
   "metadata": {},
   "outputs": [],
   "source": [
    "percentage_zero = D4AI_list[D4AI_list['number_of_meetings']==0].Studio.value_counts()/D4AI_list.Studio.value_counts()\n",
    "percentage_zero.fillna(0, inplace=True)\n",
    "percentage_zero"
   ]
  },
  {
   "cell_type": "code",
   "execution_count": null,
   "metadata": {},
   "outputs": [],
   "source": [
    "#what if we go through the people, then select the lead?"
   ]
  },
  {
   "cell_type": "code",
   "execution_count": null,
   "metadata": {},
   "outputs": [],
   "source": [
    "import random\n",
    "D4AI_list['number_of_meetings']=0\n",
    "D4AI_list['max_meetings']=3\n",
    "D4AI_list.head()\n",
    "\n",
    "non_leads = D4AI_list[(D4AI_list['Call Lead']!='x')]\n",
    "leads = D4AI_list[(D4AI_list['Call Lead']=='x')]\n",
    "\n",
    "selected = []\n",
    "for index, selection in leads.iterrows():\n",
    "    selection_studio = selection.Studio\n",
    "    selection_email = [index]\n",
    "    print('selection studio', selection_studio)\n",
    "    print('selection email ', selection_email)\n",
    "    \n",
    "    non_leads = D4AI_list[(D4AI_list['Call Lead']!='x')]\n",
    "    leads = D4AI_list[(D4AI_list['Call Lead']=='x')]\n",
    "\n",
    "    possibilities = []\n",
    "    weights = []\n",
    "    for group in good_groups:\n",
    "        if selection_studio in group:\n",
    "            possibilities.append(group)\n",
    "            weights.append(100*find_weight_for_studio_trio(group, non_leads))\n",
    "            \n",
    "    weights = np.array(weights)\n",
    "    studio_group = pd.DataFrame({'col':possibilities}).sample(weights=weights**10).values[0][0]\n",
    "    print(pd.DataFrame({'col':possibilities}).sample(weights=np.array(weights)))\n",
    "    print(' ')\n",
    "    other_studios = set(studio_group) - set([selection_studio])\n",
    "\n",
    "    for studio in other_studios:\n",
    "        #print('studio', studio)\n",
    "        #people = D4AI_list[((D4AI_list.Studio == studio) & (D4AI_list['Call Lead']!='x'))]\n",
    "        people = non_leads[non_leads.Studio==studio]\n",
    "        weight = (people['max_meetings'] - people['number_of_meetings'])**10\n",
    "\n",
    "        people['weights'] = weight\n",
    "        # print(people[people.number_of_meetings>0])\n",
    "        # print(' ')\n",
    "        selection = people.sample(1, weights = weight)\n",
    "        selection_email.append(selection.index[0])\n",
    "\n",
    "    D4AI_list.loc[\n",
    "                    selection_email, 'number_of_meetings'] += 1\n",
    "    selected.append(selection_email)"
   ]
  },
  {
   "cell_type": "code",
   "execution_count": null,
   "metadata": {},
   "outputs": [],
   "source": [
    "D4AI_list['number_of_meetings'].hist()"
   ]
  },
  {
   "cell_type": "code",
   "execution_count": null,
   "metadata": {},
   "outputs": [],
   "source": [
    "D4AI_list['number_of_meetings'].value_counts()"
   ]
  },
  {
   "cell_type": "code",
   "execution_count": null,
   "metadata": {},
   "outputs": [],
   "source": [
    "D4AI_list[D4AI_list['number_of_meetings']==0]"
   ]
  },
  {
   "cell_type": "code",
   "execution_count": null,
   "metadata": {},
   "outputs": [],
   "source": [
    "def find_weight_for_studio_trio(trio, D4AI_list):\n",
    "    \n",
    "    total_weight = 0\n",
    "    maxed = 1\n",
    "    \n",
    "    percentage_zero = D4AI_list[D4AI_list['number_of_meetings']==0].Studio.value_counts()/D4AI_list.Studio.value_counts()\n",
    "    percentage_zero.fillna(0, inplace=True)\n",
    "    \n",
    "    percentage_max = D4AI_list[D4AI_list['number_of_meetings']==D4AI_list['max_meetings']].Studio.value_counts()/D4AI_list.Studio.value_counts()\n",
    "    percentage_max.fillna(0, inplace=True)\n",
    "\n",
    "    print('percentage max', percentage_max)\n",
    "    print('percentage zero ', percentage_zero)\n",
    "    \n",
    "    for studio in trio:\n",
    "        p_zero = percentage_zero.loc[studio] #percentage people with zero meetings\n",
    "        if percentage_max[studio]>=1:\n",
    "            maxed = 0\n",
    "        total_weight += p_zero\n",
    "    return total_weight*maxed\n",
    "\n",
    "def find_possible_studios(selection_studio, good_groups):\n",
    "    possibilities = []\n",
    "    weights = []\n",
    "    for group in good_groups:\n",
    "\n",
    "        if selection_studio in group:\n",
    "            possibilities.append(group)\n",
    "            weights.append(100*find_weight_for_studio_trio(group, non_leads))\n",
    "            \n",
    "    weights = np.array(weights)\n",
    "    return possibilities, weights\n"
   ]
  },
  {
   "cell_type": "code",
   "execution_count": null,
   "metadata": {},
   "outputs": [],
   "source": [
    "import random\n",
    "D4AI_list['number_of_meetings']=0\n",
    "D4AI_list['max_meetings']=3\n",
    "D4AI_list.head()\n",
    "\n",
    "non_leads = D4AI_list[(D4AI_list['Call Lead']!='x')]\n",
    "leads = D4AI_list[(D4AI_list['Call Lead']=='x')]\n",
    "\n",
    "selected = []\n",
    "while (sum(D4AI_list.number_of_meetings < 1) > 0):\n",
    "    non_leads = D4AI_list[(D4AI_list['Call Lead']!='x')]\n",
    "    leads = D4AI_list[(D4AI_list['Call Lead']=='x')]\n",
    "    weights = [0,0]\n",
    "    \n",
    "    while (sum(weights)==0):\n",
    "        weight = (leads['max_meetings'] - leads['number_of_meetings'])**15\n",
    "        selection = leads.sample(1, weights = weight)\n",
    "\n",
    "        selection_studio = selection.Studio.values[0]\n",
    "        selection_email = [selection.index[0]]\n",
    "\n",
    "        possibilities, weights = find_possible_studios(selection_studio, good_groups)\n",
    "\n",
    "    studio_group = pd.DataFrame({'col':possibilities}).sample(weights=weights**10).values[0][0]\n",
    "    other_studios = set(studio_group) - set([selection_studio])\n",
    "\n",
    "    for studio in other_studios:\n",
    "        people = non_leads[non_leads.Studio==studio]\n",
    "        weight = (people['max_meetings'] - people['number_of_meetings'])**15\n",
    "\n",
    "        people['weights'] = weight\n",
    "        selection = people.sample(1, weights = weight)\n",
    "        selection_email.append(selection.index[0])\n",
    "    D4AI_list.loc[\n",
    "                    selection_email, 'number_of_meetings'] += 1\n",
    "    selected.append(selection_email)\n",
    "print(len(selected))"
   ]
  },
  {
   "cell_type": "code",
   "execution_count": null,
   "metadata": {},
   "outputs": [],
   "source": [
    "D4AI_list['number_of_meetings'].hist()\n",
    "plt.show()"
   ]
  },
  {
   "cell_type": "code",
   "execution_count": null,
   "metadata": {},
   "outputs": [],
   "source": [
    "emails_all = []\n",
    "studios_all = []\n",
    "for row in selected:\n",
    "    emails = []\n",
    "    studios = []\n",
    "    for index in row:\n",
    "        person = D4AI_list.iloc[index]\n",
    "        emails.append(person.Email)\n",
    "        studios.append(person.Studio)\n",
    "    emails_all.append(emails)\n",
    "    studios_all.append(studios)"
   ]
  },
  {
   "cell_type": "code",
   "execution_count": null,
   "metadata": {},
   "outputs": [],
   "source": [
    "studios_all"
   ]
  },
  {
   "cell_type": "code",
   "execution_count": null,
   "metadata": {},
   "outputs": [],
   "source": [
    "emails_all"
   ]
  },
  {
   "cell_type": "code",
   "execution_count": null,
   "metadata": {},
   "outputs": [],
   "source": []
  }
 ],
 "metadata": {
  "kernelspec": {
   "display_name": "paired_lunch2",
   "language": "python",
   "name": "paired_lunch2"
  },
  "language_info": {
   "codemirror_mode": {
    "name": "ipython",
    "version": 3
   },
   "file_extension": ".py",
   "mimetype": "text/x-python",
   "name": "python",
   "nbconvert_exporter": "python",
   "pygments_lexer": "ipython3",
   "version": "3.6.0"
  }
 },
 "nbformat": 4,
 "nbformat_minor": 2
}
