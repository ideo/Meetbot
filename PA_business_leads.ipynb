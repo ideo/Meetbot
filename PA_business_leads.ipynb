{
 "cells": [
  {
   "cell_type": "code",
   "execution_count": 1,
   "metadata": {},
   "outputs": [],
   "source": [
    "import pandas as pd\n",
    "import numpy as np\n",
    "#import settings\n",
    "import os \n",
    "\n",
    "#ok apparently Jupyter doesn't like symlinks so I just copied\n",
    "#the CSV into this directory\n",
    "#directory = pd.read_csv('PA_directory.csv')\n",
    "\n",
    "#to make the business leads file match the Chicago default                                                   \n",
    "# we need a DF with two columns: the first has each employee's                                                \n",
    "# email, the second is the email of their BL                                                                  \n",
    "# Note: beforehand I removed the first row of the CSV (PA - test)                                             \n",
    "# and changed the names of the columns to `work_email` and `business_lead` "
   ]
  },
  {
   "cell_type": "code",
   "execution_count": 23,
   "metadata": {},
   "outputs": [],
   "source": [
    "def get_first_initial(full_name):\n",
    "    print(full_name)\n",
    "    first_initial = full_name[0]\n",
    "    return first_initial\n",
    "\n",
    "def get_last_name(full_name):\n",
    "    last_name = full_name.str.split()[1:]\n",
    "    return last_name\n",
    "\n",
    "def xstr(s):\n",
    "    if s is None:\n",
    "        return ''\n",
    "    else:\n",
    "        return str(s)"
   ]
  },
  {
   "cell_type": "code",
   "execution_count": 27,
   "metadata": {},
   "outputs": [],
   "source": [
    "names_split = directory['Reporting to'].str.split(expand=True) "
   ]
  },
  {
   "cell_type": "code",
   "execution_count": null,
   "metadata": {},
   "outputs": [],
   "source": [
    "bl_emails = names_split[0].str[0] + names_split[1] + names_split[2].apply(xstr) + '@ideo.com'"
   ]
  },
  {
   "cell_type": "code",
   "execution_count": 37,
   "metadata": {},
   "outputs": [
    {
     "data": {
      "text/plain": [
       "Counter({'ABonsall@ideo.com': 6,\n",
       "         'AGrishaver@ideo.com': 3,\n",
       "         'APapadopoulos@ideo.com': 4,\n",
       "         'BDurtsche@ideo.com': 4,\n",
       "         'DBoyle@ideo.com': 1,\n",
       "         'DCho@ideo.com': 9,\n",
       "         'DHo@ideo.com': 4,\n",
       "         'DStillion@ideo.com': 10,\n",
       "         'DWebster@ideo.com': 10,\n",
       "         'EKim@ideo.com': 8,\n",
       "         'EOberwelz@ideo.com': 4,\n",
       "         'HMiChang@ideo.com': 1,\n",
       "         'HStykow@ideo.com': 1,\n",
       "         'IRoberts@ideo.com': 1,\n",
       "         'JFourt@ideo.com': 2,\n",
       "         'JStudent@ideo.com': 6,\n",
       "         'KBallschmiter-Zait@ideo.com': 1,\n",
       "         'KKeshmiri@ideo.com': 2,\n",
       "         'LGittings@ideo.com': 2,\n",
       "         'MWeibler@ideo.com': 2,\n",
       "         'MYuan@ideo.com': 1,\n",
       "         'MvanBeusekom@ideo.com': 4,\n",
       "         'NTan@ideo.com': 3,\n",
       "         'PBennett@ideo.com': 1,\n",
       "         'RSwitzky@ideo.com': 4,\n",
       "         'SSeymour@ideo.com': 3,\n",
       "         'SVergani@ideo.com': 4,\n",
       "         'TBrown@ideo.com': 1,\n",
       "         'TToft@ideo.com': 5,\n",
       "         nan: 5})"
      ]
     },
     "execution_count": 37,
     "metadata": {},
     "output_type": "execute_result"
    }
   ],
   "source": [
    "from collections import Counter\n",
    "Counter(bl_emails)"
   ]
  },
  {
   "cell_type": "code",
   "execution_count": 47,
   "metadata": {},
   "outputs": [],
   "source": [
    "bl_emails.replace(to_replace={'DHo@ideo.com': 'diemho@ideo.com', \n",
    "'KBallschmiter-Zait@ideo.com': 'kzait@ideo.com',\n",
    "'HMiChang@ideo.com': 'hchang@ideo.com'}, inplace=True)"
   ]
  },
  {
   "cell_type": "code",
   "execution_count": 52,
   "metadata": {},
   "outputs": [
    {
     "name": "stderr",
     "output_type": "stream",
     "text": [
      "/usr/local/lib/python3.6/site-packages/ipykernel_launcher.py:2: SettingWithCopyWarning: \n",
      "A value is trying to be set on a copy of a slice from a DataFrame.\n",
      "Try using .loc[row_indexer,col_indexer] = value instead\n",
      "\n",
      "See the caveats in the documentation: http://pandas.pydata.org/pandas-docs/stable/indexing.html#indexing-view-versus-copy\n",
      "  \n"
     ]
    }
   ],
   "source": [
    "employees_with_bls = directory[['Email']]\n",
    "employees_with_bls['business_lead'] = bl_emails"
   ]
  },
  {
   "cell_type": "code",
   "execution_count": 59,
   "metadata": {},
   "outputs": [
    {
     "name": "stderr",
     "output_type": "stream",
     "text": [
      "/usr/local/lib/python3.6/site-packages/pandas/core/frame.py:3027: SettingWithCopyWarning: \n",
      "A value is trying to be set on a copy of a slice from a DataFrame\n",
      "\n",
      "See the caveats in the documentation: http://pandas.pydata.org/pandas-docs/stable/indexing.html#indexing-view-versus-copy\n",
      "  return super(DataFrame, self).rename(**kwargs)\n"
     ]
    }
   ],
   "source": [
    "employees_with_bls.rename(columns={'Email': 'email_address', 'business_lead': 'BL'}, inplace=True)"
   ]
  },
  {
   "cell_type": "code",
   "execution_count": 60,
   "metadata": {},
   "outputs": [],
   "source": [
    "employees_with_bls.to_csv('BLs.csv')"
   ]
  },
  {
   "cell_type": "code",
   "execution_count": 29,
   "metadata": {},
   "outputs": [],
   "source": [
    "employee_data = pd.read_csv('directory_data.csv', \n",
    "                             index_col='business_lead_em_id',\n",
    "                             usecols=['business_lead_em_id',\n",
    "                                      'em_id',\n",
    "                                      'first_name',\n",
    "                                      'last_name',\n",
    "                                      'email_address'])"
   ]
  },
  {
   "cell_type": "code",
   "execution_count": 35,
   "metadata": {},
   "outputs": [],
   "source": [
    "bl_data = pd.read_csv('directory_data.csv', \n",
    "                             #index_col='em_id',\n",
    "                             usecols=['em_id', 'email_address']\n",
    "                             )\n",
    "bl_data.rename(columns={'em_id': 'business_lead_em_id', \n",
    "                        'email_address': 'BL'}, inplace=True)\n",
    "bl_data.set_index('business_lead_em_id', inplace=True)"
   ]
  },
  {
   "cell_type": "code",
   "execution_count": 36,
   "metadata": {},
   "outputs": [],
   "source": [
    "employees_with_bls = employee_data.join(bl_data)"
   ]
  },
  {
   "cell_type": "code",
   "execution_count": 37,
   "metadata": {},
   "outputs": [],
   "source": [
    "employees_with_bls[['email_address','BL']].to_csv('BLs.csv', index=False)"
   ]
  },
  {
   "cell_type": "code",
   "execution_count": null,
   "metadata": {},
   "outputs": [],
   "source": []
  }
 ],
 "metadata": {
  "kernelspec": {
   "display_name": "Python 3",
   "language": "python",
   "name": "python3"
  },
  "language_info": {
   "codemirror_mode": {
    "name": "ipython",
    "version": 3
   },
   "file_extension": ".py",
   "mimetype": "text/x-python",
   "name": "python",
   "nbconvert_exporter": "python",
   "pygments_lexer": "ipython3",
   "version": "3.6.4"
  }
 },
 "nbformat": 4,
 "nbformat_minor": 2
}
